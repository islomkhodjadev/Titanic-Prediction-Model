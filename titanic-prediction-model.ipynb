{
 "cells": [
  {
   "cell_type": "code",
   "execution_count": 1,
   "id": "62770f72",
   "metadata": {
    "_cell_guid": "b1076dfc-b9ad-4769-8c92-a6c4dae69d19",
    "_uuid": "8f2839f25d086af736a60e9eeb907d3b93b6e0e5",
    "execution": {
     "iopub.execute_input": "2025-03-02T01:42:28.344198Z",
     "iopub.status.busy": "2025-03-02T01:42:28.343888Z",
     "iopub.status.idle": "2025-03-02T01:42:29.021186Z",
     "shell.execute_reply": "2025-03-02T01:42:29.020215Z"
    },
    "papermill": {
     "duration": 0.687321,
     "end_time": "2025-03-02T01:42:29.022516",
     "exception": false,
     "start_time": "2025-03-02T01:42:28.335195",
     "status": "completed"
    },
    "tags": []
   },
   "outputs": [
    {
     "name": "stdout",
     "output_type": "stream",
     "text": [
      "/kaggle/input/titanic/train.csv\n",
      "/kaggle/input/titanic/test.csv\n",
      "/kaggle/input/titanic/gender_submission.csv\n"
     ]
    }
   ],
   "source": [
    "# This Python 3 environment comes with many helpful analytics libraries installed\n",
    "# It is defined by the kaggle/python Docker image: https://github.com/kaggle/docker-python\n",
    "# For example, here's several helpful packages to load\n",
    "\n",
    "import numpy as np # linear algebra\n",
    "import pandas as pd # data processing, CSV file I/O (e.g. pd.read_csv)\n",
    "\n",
    "# Input data files are available in the read-only \"../input/\" directory\n",
    "# For example, running this (by clicking run or pressing Shift+Enter) will list all files under the input directory\n",
    "\n",
    "import os\n",
    "for dirname, _, filenames in os.walk('/kaggle/input'):\n",
    "    for filename in filenames:\n",
    "        print(os.path.join(dirname, filename))\n",
    "import warnings\n",
    "warnings.filterwarnings('ignore')\n",
    "\n",
    "# You can write up to 20GB to the current directory (/kaggle/working/) that gets preserved as output when you create a version using \"Save & Run All\" \n",
    "# You can also write temporary files to /kaggle/temp/, but they won't be saved outside of the current session"
   ]
  },
  {
   "cell_type": "code",
   "execution_count": 2,
   "id": "cb77be41",
   "metadata": {
    "execution": {
     "iopub.execute_input": "2025-03-02T01:42:29.037517Z",
     "iopub.status.busy": "2025-03-02T01:42:29.037191Z",
     "iopub.status.idle": "2025-03-02T01:42:30.289003Z",
     "shell.execute_reply": "2025-03-02T01:42:30.288342Z"
    },
    "papermill": {
     "duration": 1.260895,
     "end_time": "2025-03-02T01:42:30.290765",
     "exception": false,
     "start_time": "2025-03-02T01:42:29.029870",
     "status": "completed"
    },
    "tags": []
   },
   "outputs": [],
   "source": [
    "import pandas as pd\n",
    "import seaborn as sns\n",
    "import matplotlib.pyplot as plt"
   ]
  },
  {
   "cell_type": "code",
   "execution_count": 3,
   "id": "263b775d",
   "metadata": {
    "execution": {
     "iopub.execute_input": "2025-03-02T01:42:30.306644Z",
     "iopub.status.busy": "2025-03-02T01:42:30.306319Z",
     "iopub.status.idle": "2025-03-02T01:42:30.330891Z",
     "shell.execute_reply": "2025-03-02T01:42:30.330284Z"
    },
    "papermill": {
     "duration": 0.033576,
     "end_time": "2025-03-02T01:42:30.332206",
     "exception": false,
     "start_time": "2025-03-02T01:42:30.298630",
     "status": "completed"
    },
    "tags": []
   },
   "outputs": [],
   "source": [
    "df = pd.read_csv(\"/kaggle/input/titanic/train.csv\")\n",
    "test = pd.read_csv(\"/kaggle/input/titanic/test.csv\")"
   ]
  },
  {
   "cell_type": "code",
   "execution_count": 4,
   "id": "cea73867",
   "metadata": {
    "execution": {
     "iopub.execute_input": "2025-03-02T01:42:30.347095Z",
     "iopub.status.busy": "2025-03-02T01:42:30.346792Z",
     "iopub.status.idle": "2025-03-02T01:42:30.542930Z",
     "shell.execute_reply": "2025-03-02T01:42:30.542271Z"
    },
    "papermill": {
     "duration": 0.205,
     "end_time": "2025-03-02T01:42:30.544388",
     "exception": false,
     "start_time": "2025-03-02T01:42:30.339388",
     "status": "completed"
    },
    "tags": []
   },
   "outputs": [],
   "source": [
    "from sklearn.model_selection import StratifiedShuffleSplit"
   ]
  },
  {
   "cell_type": "code",
   "execution_count": 5,
   "id": "03bf021c",
   "metadata": {
    "execution": {
     "iopub.execute_input": "2025-03-02T01:42:30.559242Z",
     "iopub.status.busy": "2025-03-02T01:42:30.559029Z",
     "iopub.status.idle": "2025-03-02T01:42:30.562255Z",
     "shell.execute_reply": "2025-03-02T01:42:30.561612Z"
    },
    "papermill": {
     "duration": 0.011876,
     "end_time": "2025-03-02T01:42:30.563407",
     "exception": false,
     "start_time": "2025-03-02T01:42:30.551531",
     "status": "completed"
    },
    "tags": []
   },
   "outputs": [],
   "source": [
    "split = StratifiedShuffleSplit(n_splits=1, test_size=0.2)"
   ]
  },
  {
   "cell_type": "code",
   "execution_count": 6,
   "id": "374fe786",
   "metadata": {
    "execution": {
     "iopub.execute_input": "2025-03-02T01:42:30.577994Z",
     "iopub.status.busy": "2025-03-02T01:42:30.577699Z",
     "iopub.status.idle": "2025-03-02T01:42:30.599428Z",
     "shell.execute_reply": "2025-03-02T01:42:30.598734Z"
    },
    "papermill": {
     "duration": 0.030387,
     "end_time": "2025-03-02T01:42:30.600559",
     "exception": false,
     "start_time": "2025-03-02T01:42:30.570172",
     "status": "completed"
    },
    "tags": []
   },
   "outputs": [],
   "source": [
    "for train_indicies, test_indicies in split.split(df, df[[\"Survived\", \"Pclass\", \"Sex\"]]):\n",
    "    strat_train_set = df.loc[train_indicies]\n",
    "    strat_test_set = df.loc[test_indicies]"
   ]
  },
  {
   "cell_type": "code",
   "execution_count": 7,
   "id": "86b2407d",
   "metadata": {
    "execution": {
     "iopub.execute_input": "2025-03-02T01:42:30.614830Z",
     "iopub.status.busy": "2025-03-02T01:42:30.614611Z",
     "iopub.status.idle": "2025-03-02T01:42:30.976090Z",
     "shell.execute_reply": "2025-03-02T01:42:30.975369Z"
    },
    "papermill": {
     "duration": 0.37009,
     "end_time": "2025-03-02T01:42:30.977506",
     "exception": false,
     "start_time": "2025-03-02T01:42:30.607416",
     "status": "completed"
    },
    "tags": []
   },
   "outputs": [
    {
     "data": {
      "image/png": "[encoded data removed]",
      "text/plain": [
       "<Figure size 640x480 with 2 Axes>"
      ]
     },
     "metadata": {},
     "output_type": "display_data"
    }
   ],
   "source": [
    "plt.subplot(1, 2, 1)\n",
    "strat_train_set[\"Survived\"].hist()\n",
    "strat_train_set[\"Pclass\"].hist()\n",
    "\n",
    "\n",
    "plt.subplot(1, 2, 2)\n",
    "strat_test_set[\"Survived\"].hist()\n",
    "strat_test_set[\"Pclass\"].hist()\n",
    "plt.show()"
   ]
  },
  {
   "cell_type": "code",
   "execution_count": 8,
   "id": "99cf514d",
   "metadata": {
    "execution": {
     "iopub.execute_input": "2025-03-02T01:42:30.993092Z",
     "iopub.status.busy": "2025-03-02T01:42:30.992863Z",
     "iopub.status.idle": "2025-03-02T01:42:31.009213Z",
     "shell.execute_reply": "2025-03-02T01:42:31.008278Z"
    },
    "papermill": {
     "duration": 0.025433,
     "end_time": "2025-03-02T01:42:31.010346",
     "exception": false,
     "start_time": "2025-03-02T01:42:30.984913",
     "status": "completed"
    },
    "tags": []
   },
   "outputs": [
    {
     "name": "stdout",
     "output_type": "stream",
     "text": [
      "<class 'pandas.core.frame.DataFrame'>\n",
      "Index: 712 entries, 38 to 259\n",
      "Data columns (total 12 columns):\n",
      " #   Column       Non-Null Count  Dtype  \n",
      "---  ------       --------------  -----  \n",
      " 0   PassengerId  712 non-null    int64  \n",
      " 1   Survived     712 non-null    int64  \n",
      " 2   Pclass       712 non-null    int64  \n",
      " 3   Name         712 non-null    object \n",
      " 4   Sex          712 non-null    object \n",
      " 5   Age          571 non-null    float64\n",
      " 6   SibSp        712 non-null    int64  \n",
      " 7   Parch        712 non-null    int64  \n",
      " 8   Ticket       712 non-null    object \n",
      " 9   Fare         712 non-null    float64\n",
      " 10  Cabin        168 non-null    object \n",
      " 11  Embarked     711 non-null    object \n",
      "dtypes: float64(2), int64(5), object(5)\n",
      "memory usage: 72.3+ KB\n"
     ]
    }
   ],
   "source": [
    "strat_train_set.info()"
   ]
  },
  {
   "cell_type": "code",
   "execution_count": 9,
   "id": "c33fdd38",
   "metadata": {
    "execution": {
     "iopub.execute_input": "2025-03-02T01:42:31.025349Z",
     "iopub.status.busy": "2025-03-02T01:42:31.025140Z",
     "iopub.status.idle": "2025-03-02T01:42:31.193072Z",
     "shell.execute_reply": "2025-03-02T01:42:31.192357Z"
    },
    "papermill": {
     "duration": 0.176901,
     "end_time": "2025-03-02T01:42:31.194458",
     "exception": false,
     "start_time": "2025-03-02T01:42:31.017557",
     "status": "completed"
    },
    "tags": []
   },
   "outputs": [],
   "source": [
    "from sklearn.base import BaseEstimator, TransformerMixin\n",
    "from sklearn.impute import SimpleImputer"
   ]
  },
  {
   "cell_type": "code",
   "execution_count": 10,
   "id": "c52d2c02",
   "metadata": {
    "execution": {
     "iopub.execute_input": "2025-03-02T01:42:31.209944Z",
     "iopub.status.busy": "2025-03-02T01:42:31.209681Z",
     "iopub.status.idle": "2025-03-02T01:42:31.213321Z",
     "shell.execute_reply": "2025-03-02T01:42:31.212704Z"
    },
    "papermill": {
     "duration": 0.012443,
     "end_time": "2025-03-02T01:42:31.214415",
     "exception": false,
     "start_time": "2025-03-02T01:42:31.201972",
     "status": "completed"
    },
    "tags": []
   },
   "outputs": [],
   "source": [
    "class AgeImputer(BaseEstimator, TransformerMixin):\n",
    "\n",
    "    def fit(self, X, y=None):\n",
    "        return self\n",
    "\n",
    "    def transform(self, X):\n",
    "        imputer = SimpleImputer(strategy=\"mean\")\n",
    "        X[\"Age\"] = imputer.fit_transform(X[[\"Age\"]])\n",
    "        return X"
   ]
  },
  {
   "cell_type": "code",
   "execution_count": 11,
   "id": "375b1527",
   "metadata": {
    "execution": {
     "iopub.execute_input": "2025-03-02T01:42:31.229226Z",
     "iopub.status.busy": "2025-03-02T01:42:31.229013Z",
     "iopub.status.idle": "2025-03-02T01:42:31.232004Z",
     "shell.execute_reply": "2025-03-02T01:42:31.231363Z"
    },
    "papermill": {
     "duration": 0.011885,
     "end_time": "2025-03-02T01:42:31.233256",
     "exception": false,
     "start_time": "2025-03-02T01:42:31.221371",
     "status": "completed"
    },
    "tags": []
   },
   "outputs": [],
   "source": [
    "from sklearn.preprocessing import OneHotEncoder"
   ]
  },
  {
   "cell_type": "code",
   "execution_count": 12,
   "id": "c1d82a99",
   "metadata": {
    "execution": {
     "iopub.execute_input": "2025-03-02T01:42:31.247972Z",
     "iopub.status.busy": "2025-03-02T01:42:31.247724Z",
     "iopub.status.idle": "2025-03-02T01:42:31.252350Z",
     "shell.execute_reply": "2025-03-02T01:42:31.251689Z"
    },
    "papermill": {
     "duration": 0.013368,
     "end_time": "2025-03-02T01:42:31.253547",
     "exception": false,
     "start_time": "2025-03-02T01:42:31.240179",
     "status": "completed"
    },
    "tags": []
   },
   "outputs": [],
   "source": [
    "class FeatureEncoder(BaseEstimator, TransformerMixin):\n",
    "    def fit(self, X, y=None):\n",
    "        return self\n",
    "\n",
    "    def transform(self, X):\n",
    "        encoder = OneHotEncoder()\n",
    "        \n",
    "        matrix = encoder.fit_transform(X[[\"Embarked\"]]).toarray()\n",
    "        column_names = [\"C\", \"S\", \"Q\", \"N\"]\n",
    "\n",
    "        for i in range(len(matrix.T)):\n",
    "            X[column_names[i]] = matrix.T[i]\n",
    "\n",
    "        matrix = encoder.fit_transform(X[[\"Sex\"]]).toarray()\n",
    "        column_names = [\"male\", \"female\"]\n",
    "        for i in range(len(matrix.T)):\n",
    "            X[column_names[i]] = matrix.T[i]\n",
    "\n",
    "        return X"
   ]
  },
  {
   "cell_type": "code",
   "execution_count": 13,
   "id": "29355a52",
   "metadata": {
    "execution": {
     "iopub.execute_input": "2025-03-02T01:42:31.268345Z",
     "iopub.status.busy": "2025-03-02T01:42:31.268138Z",
     "iopub.status.idle": "2025-03-02T01:42:31.271680Z",
     "shell.execute_reply": "2025-03-02T01:42:31.271073Z"
    },
    "papermill": {
     "duration": 0.012252,
     "end_time": "2025-03-02T01:42:31.272878",
     "exception": false,
     "start_time": "2025-03-02T01:42:31.260626",
     "status": "completed"
    },
    "tags": []
   },
   "outputs": [],
   "source": [
    "class FeatureDropper(BaseEstimator, TransformerMixin):\n",
    "\n",
    "    def fit(self, X,y=None):\n",
    "        return self\n",
    "\n",
    "    def transform(self, X):\n",
    "        return X.drop([ 'Name', 'Sex', 'Age', 'Ticket', 'Cabin', 'Embarked', \"N\"], axis=1, errors=\"ignore\")"
   ]
  },
  {
   "cell_type": "code",
   "execution_count": 14,
   "id": "34ddb73d",
   "metadata": {
    "execution": {
     "iopub.execute_input": "2025-03-02T01:42:31.287812Z",
     "iopub.status.busy": "2025-03-02T01:42:31.287572Z",
     "iopub.status.idle": "2025-03-02T01:42:31.296612Z",
     "shell.execute_reply": "2025-03-02T01:42:31.295826Z"
    },
    "papermill": {
     "duration": 0.017916,
     "end_time": "2025-03-02T01:42:31.297768",
     "exception": false,
     "start_time": "2025-03-02T01:42:31.279852",
     "status": "completed"
    },
    "tags": []
   },
   "outputs": [],
   "source": [
    "from sklearn.pipeline import Pipeline"
   ]
  },
  {
   "cell_type": "code",
   "execution_count": 15,
   "id": "5c0a61b5",
   "metadata": {
    "execution": {
     "iopub.execute_input": "2025-03-02T01:42:31.316781Z",
     "iopub.status.busy": "2025-03-02T01:42:31.316539Z",
     "iopub.status.idle": "2025-03-02T01:42:31.319970Z",
     "shell.execute_reply": "2025-03-02T01:42:31.319225Z"
    },
    "papermill": {
     "duration": 0.013036,
     "end_time": "2025-03-02T01:42:31.321384",
     "exception": false,
     "start_time": "2025-03-02T01:42:31.308348",
     "status": "completed"
    },
    "tags": []
   },
   "outputs": [],
   "source": [
    "pipeline = Pipeline([(\"ageimputer\", AgeImputer()),\n",
    "                     (\"featureencoder\", FeatureEncoder()), \n",
    "                     (\"featuredropper\", FeatureDropper())])"
   ]
  },
  {
   "cell_type": "code",
   "execution_count": 16,
   "id": "6428c4c1",
   "metadata": {
    "execution": {
     "iopub.execute_input": "2025-03-02T01:42:31.336439Z",
     "iopub.status.busy": "2025-03-02T01:42:31.336230Z",
     "iopub.status.idle": "2025-03-02T01:42:31.358527Z",
     "shell.execute_reply": "2025-03-02T01:42:31.357759Z"
    },
    "papermill": {
     "duration": 0.030868,
     "end_time": "2025-03-02T01:42:31.359646",
     "exception": false,
     "start_time": "2025-03-02T01:42:31.328778",
     "status": "completed"
    },
    "tags": []
   },
   "outputs": [
    {
     "data": {
      "text/html": [
       "<div>\n",
       "<style scoped>\n",
       "    .dataframe tbody tr th:only-of-type {\n",
       "        vertical-align: middle;\n",
       "    }\n",
       "\n",
       "    .dataframe tbody tr th {\n",
       "        vertical-align: top;\n",
       "    }\n",
       "\n",
       "    .dataframe thead th {\n",
       "        text-align: right;\n",
       "    }\n",
       "</style>\n",
       "<table border=\"1\" class=\"dataframe\">\n",
       "  <thead>\n",
       "    <tr style=\"text-align: right;\">\n",
       "      <th></th>\n",
       "      <th>PassengerId</th>\n",
       "      <th>Survived</th>\n",
       "      <th>Pclass</th>\n",
       "      <th>Name</th>\n",
       "      <th>Sex</th>\n",
       "      <th>Age</th>\n",
       "      <th>SibSp</th>\n",
       "      <th>Parch</th>\n",
       "      <th>Ticket</th>\n",
       "      <th>Fare</th>\n",
       "      <th>Cabin</th>\n",
       "      <th>Embarked</th>\n",
       "    </tr>\n",
       "  </thead>\n",
       "  <tbody>\n",
       "    <tr>\n",
       "      <th>38</th>\n",
       "      <td>39</td>\n",
       "      <td>0</td>\n",
       "      <td>3</td>\n",
       "      <td>Vander Planke, Miss. Augusta Maria</td>\n",
       "      <td>female</td>\n",
       "      <td>18.0</td>\n",
       "      <td>2</td>\n",
       "      <td>0</td>\n",
       "      <td>345764</td>\n",
       "      <td>18.0000</td>\n",
       "      <td>NaN</td>\n",
       "      <td>S</td>\n",
       "    </tr>\n",
       "    <tr>\n",
       "      <th>653</th>\n",
       "      <td>654</td>\n",
       "      <td>1</td>\n",
       "      <td>3</td>\n",
       "      <td>O'Leary, Miss. Hanora \"Norah\"</td>\n",
       "      <td>female</td>\n",
       "      <td>NaN</td>\n",
       "      <td>0</td>\n",
       "      <td>0</td>\n",
       "      <td>330919</td>\n",
       "      <td>7.8292</td>\n",
       "      <td>NaN</td>\n",
       "      <td>Q</td>\n",
       "    </tr>\n",
       "    <tr>\n",
       "      <th>526</th>\n",
       "      <td>527</td>\n",
       "      <td>1</td>\n",
       "      <td>2</td>\n",
       "      <td>Ridsdale, Miss. Lucy</td>\n",
       "      <td>female</td>\n",
       "      <td>50.0</td>\n",
       "      <td>0</td>\n",
       "      <td>0</td>\n",
       "      <td>W./C. 14258</td>\n",
       "      <td>10.5000</td>\n",
       "      <td>NaN</td>\n",
       "      <td>S</td>\n",
       "    </tr>\n",
       "    <tr>\n",
       "      <th>375</th>\n",
       "      <td>376</td>\n",
       "      <td>1</td>\n",
       "      <td>1</td>\n",
       "      <td>Meyer, Mrs. Edgar Joseph (Leila Saks)</td>\n",
       "      <td>female</td>\n",
       "      <td>NaN</td>\n",
       "      <td>1</td>\n",
       "      <td>0</td>\n",
       "      <td>PC 17604</td>\n",
       "      <td>82.1708</td>\n",
       "      <td>NaN</td>\n",
       "      <td>C</td>\n",
       "    </tr>\n",
       "    <tr>\n",
       "      <th>394</th>\n",
       "      <td>395</td>\n",
       "      <td>1</td>\n",
       "      <td>3</td>\n",
       "      <td>Sandstrom, Mrs. Hjalmar (Agnes Charlotta Bengt...</td>\n",
       "      <td>female</td>\n",
       "      <td>24.0</td>\n",
       "      <td>0</td>\n",
       "      <td>2</td>\n",
       "      <td>PP 9549</td>\n",
       "      <td>16.7000</td>\n",
       "      <td>G6</td>\n",
       "      <td>S</td>\n",
       "    </tr>\n",
       "    <tr>\n",
       "      <th>...</th>\n",
       "      <td>...</td>\n",
       "      <td>...</td>\n",
       "      <td>...</td>\n",
       "      <td>...</td>\n",
       "      <td>...</td>\n",
       "      <td>...</td>\n",
       "      <td>...</td>\n",
       "      <td>...</td>\n",
       "      <td>...</td>\n",
       "      <td>...</td>\n",
       "      <td>...</td>\n",
       "      <td>...</td>\n",
       "    </tr>\n",
       "    <tr>\n",
       "      <th>167</th>\n",
       "      <td>168</td>\n",
       "      <td>0</td>\n",
       "      <td>3</td>\n",
       "      <td>Skoog, Mrs. William (Anna Bernhardina Karlsson)</td>\n",
       "      <td>female</td>\n",
       "      <td>45.0</td>\n",
       "      <td>1</td>\n",
       "      <td>4</td>\n",
       "      <td>347088</td>\n",
       "      <td>27.9000</td>\n",
       "      <td>NaN</td>\n",
       "      <td>S</td>\n",
       "    </tr>\n",
       "    <tr>\n",
       "      <th>143</th>\n",
       "      <td>144</td>\n",
       "      <td>0</td>\n",
       "      <td>3</td>\n",
       "      <td>Burke, Mr. Jeremiah</td>\n",
       "      <td>male</td>\n",
       "      <td>19.0</td>\n",
       "      <td>0</td>\n",
       "      <td>0</td>\n",
       "      <td>365222</td>\n",
       "      <td>6.7500</td>\n",
       "      <td>NaN</td>\n",
       "      <td>Q</td>\n",
       "    </tr>\n",
       "    <tr>\n",
       "      <th>490</th>\n",
       "      <td>491</td>\n",
       "      <td>0</td>\n",
       "      <td>3</td>\n",
       "      <td>Hagland, Mr. Konrad Mathias Reiersen</td>\n",
       "      <td>male</td>\n",
       "      <td>NaN</td>\n",
       "      <td>1</td>\n",
       "      <td>0</td>\n",
       "      <td>65304</td>\n",
       "      <td>19.9667</td>\n",
       "      <td>NaN</td>\n",
       "      <td>S</td>\n",
       "    </tr>\n",
       "    <tr>\n",
       "      <th>871</th>\n",
       "      <td>872</td>\n",
       "      <td>1</td>\n",
       "      <td>1</td>\n",
       "      <td>Beckwith, Mrs. Richard Leonard (Sallie Monypeny)</td>\n",
       "      <td>female</td>\n",
       "      <td>47.0</td>\n",
       "      <td>1</td>\n",
       "      <td>1</td>\n",
       "      <td>11751</td>\n",
       "      <td>52.5542</td>\n",
       "      <td>D35</td>\n",
       "      <td>S</td>\n",
       "    </tr>\n",
       "    <tr>\n",
       "      <th>259</th>\n",
       "      <td>260</td>\n",
       "      <td>1</td>\n",
       "      <td>2</td>\n",
       "      <td>Parrish, Mrs. (Lutie Davis)</td>\n",
       "      <td>female</td>\n",
       "      <td>50.0</td>\n",
       "      <td>0</td>\n",
       "      <td>1</td>\n",
       "      <td>230433</td>\n",
       "      <td>26.0000</td>\n",
       "      <td>NaN</td>\n",
       "      <td>S</td>\n",
       "    </tr>\n",
       "  </tbody>\n",
       "</table>\n",
       "<p>712 rows × 12 columns</p>\n",
       "</div>"
      ],
      "text/plain": [
       "     PassengerId  Survived  Pclass  \\\n",
       "38            39         0       3   \n",
       "653          654         1       3   \n",
       "526          527         1       2   \n",
       "375          376         1       1   \n",
       "394          395         1       3   \n",
       "..           ...       ...     ...   \n",
       "167          168         0       3   \n",
       "143          144         0       3   \n",
       "490          491         0       3   \n",
       "871          872         1       1   \n",
       "259          260         1       2   \n",
       "\n",
       "                                                  Name     Sex   Age  SibSp  \\\n",
       "38                  Vander Planke, Miss. Augusta Maria  female  18.0      2   \n",
       "653                      O'Leary, Miss. Hanora \"Norah\"  female   NaN      0   \n",
       "526                               Ridsdale, Miss. Lucy  female  50.0      0   \n",
       "375              Meyer, Mrs. Edgar Joseph (Leila Saks)  female   NaN      1   \n",
       "394  Sandstrom, Mrs. Hjalmar (Agnes Charlotta Bengt...  female  24.0      0   \n",
       "..                                                 ...     ...   ...    ...   \n",
       "167    Skoog, Mrs. William (Anna Bernhardina Karlsson)  female  45.0      1   \n",
       "143                                Burke, Mr. Jeremiah    male  19.0      0   \n",
       "490               Hagland, Mr. Konrad Mathias Reiersen    male   NaN      1   \n",
       "871   Beckwith, Mrs. Richard Leonard (Sallie Monypeny)  female  47.0      1   \n",
       "259                        Parrish, Mrs. (Lutie Davis)  female  50.0      0   \n",
       "\n",
       "     Parch       Ticket     Fare Cabin Embarked  \n",
       "38       0       345764  18.0000   NaN        S  \n",
       "653      0       330919   7.8292   NaN        Q  \n",
       "526      0  W./C. 14258  10.5000   NaN        S  \n",
       "375      0     PC 17604  82.1708   NaN        C  \n",
       "394      2      PP 9549  16.7000    G6        S  \n",
       "..     ...          ...      ...   ...      ...  \n",
       "167      4       347088  27.9000   NaN        S  \n",
       "143      0       365222   6.7500   NaN        Q  \n",
       "490      0        65304  19.9667   NaN        S  \n",
       "871      1        11751  52.5542   D35        S  \n",
       "259      1       230433  26.0000   NaN        S  \n",
       "\n",
       "[712 rows x 12 columns]"
      ]
     },
     "execution_count": 16,
     "metadata": {},
     "output_type": "execute_result"
    }
   ],
   "source": [
    "strat_train_set"
   ]
  },
  {
   "cell_type": "code",
   "execution_count": 17,
   "id": "7d3ef1b0",
   "metadata": {
    "execution": {
     "iopub.execute_input": "2025-03-02T01:42:31.375763Z",
     "iopub.status.busy": "2025-03-02T01:42:31.375556Z",
     "iopub.status.idle": "2025-03-02T01:42:31.389889Z",
     "shell.execute_reply": "2025-03-02T01:42:31.389033Z"
    },
    "papermill": {
     "duration": 0.023853,
     "end_time": "2025-03-02T01:42:31.391163",
     "exception": false,
     "start_time": "2025-03-02T01:42:31.367310",
     "status": "completed"
    },
    "tags": []
   },
   "outputs": [],
   "source": [
    "strat_train_set = pipeline.fit_transform(X=strat_train_set)"
   ]
  },
  {
   "cell_type": "code",
   "execution_count": 18,
   "id": "8a679b5b",
   "metadata": {
    "execution": {
     "iopub.execute_input": "2025-03-02T01:42:31.406766Z",
     "iopub.status.busy": "2025-03-02T01:42:31.406569Z",
     "iopub.status.idle": "2025-03-02T01:42:31.421074Z",
     "shell.execute_reply": "2025-03-02T01:42:31.420303Z"
    },
    "papermill": {
     "duration": 0.023686,
     "end_time": "2025-03-02T01:42:31.422244",
     "exception": false,
     "start_time": "2025-03-02T01:42:31.398558",
     "status": "completed"
    },
    "tags": []
   },
   "outputs": [
    {
     "data": {
      "text/html": [
       "<div>\n",
       "<style scoped>\n",
       "    .dataframe tbody tr th:only-of-type {\n",
       "        vertical-align: middle;\n",
       "    }\n",
       "\n",
       "    .dataframe tbody tr th {\n",
       "        vertical-align: top;\n",
       "    }\n",
       "\n",
       "    .dataframe thead th {\n",
       "        text-align: right;\n",
       "    }\n",
       "</style>\n",
       "<table border=\"1\" class=\"dataframe\">\n",
       "  <thead>\n",
       "    <tr style=\"text-align: right;\">\n",
       "      <th></th>\n",
       "      <th>PassengerId</th>\n",
       "      <th>Survived</th>\n",
       "      <th>Pclass</th>\n",
       "      <th>SibSp</th>\n",
       "      <th>Parch</th>\n",
       "      <th>Fare</th>\n",
       "      <th>C</th>\n",
       "      <th>S</th>\n",
       "      <th>Q</th>\n",
       "      <th>male</th>\n",
       "      <th>female</th>\n",
       "    </tr>\n",
       "  </thead>\n",
       "  <tbody>\n",
       "    <tr>\n",
       "      <th>38</th>\n",
       "      <td>39</td>\n",
       "      <td>0</td>\n",
       "      <td>3</td>\n",
       "      <td>2</td>\n",
       "      <td>0</td>\n",
       "      <td>18.0000</td>\n",
       "      <td>0.0</td>\n",
       "      <td>0.0</td>\n",
       "      <td>1.0</td>\n",
       "      <td>1.0</td>\n",
       "      <td>0.0</td>\n",
       "    </tr>\n",
       "    <tr>\n",
       "      <th>653</th>\n",
       "      <td>654</td>\n",
       "      <td>1</td>\n",
       "      <td>3</td>\n",
       "      <td>0</td>\n",
       "      <td>0</td>\n",
       "      <td>7.8292</td>\n",
       "      <td>0.0</td>\n",
       "      <td>1.0</td>\n",
       "      <td>0.0</td>\n",
       "      <td>1.0</td>\n",
       "      <td>0.0</td>\n",
       "    </tr>\n",
       "    <tr>\n",
       "      <th>526</th>\n",
       "      <td>527</td>\n",
       "      <td>1</td>\n",
       "      <td>2</td>\n",
       "      <td>0</td>\n",
       "      <td>0</td>\n",
       "      <td>10.5000</td>\n",
       "      <td>0.0</td>\n",
       "      <td>0.0</td>\n",
       "      <td>1.0</td>\n",
       "      <td>1.0</td>\n",
       "      <td>0.0</td>\n",
       "    </tr>\n",
       "    <tr>\n",
       "      <th>375</th>\n",
       "      <td>376</td>\n",
       "      <td>1</td>\n",
       "      <td>1</td>\n",
       "      <td>1</td>\n",
       "      <td>0</td>\n",
       "      <td>82.1708</td>\n",
       "      <td>1.0</td>\n",
       "      <td>0.0</td>\n",
       "      <td>0.0</td>\n",
       "      <td>1.0</td>\n",
       "      <td>0.0</td>\n",
       "    </tr>\n",
       "    <tr>\n",
       "      <th>394</th>\n",
       "      <td>395</td>\n",
       "      <td>1</td>\n",
       "      <td>3</td>\n",
       "      <td>0</td>\n",
       "      <td>2</td>\n",
       "      <td>16.7000</td>\n",
       "      <td>0.0</td>\n",
       "      <td>0.0</td>\n",
       "      <td>1.0</td>\n",
       "      <td>1.0</td>\n",
       "      <td>0.0</td>\n",
       "    </tr>\n",
       "    <tr>\n",
       "      <th>...</th>\n",
       "      <td>...</td>\n",
       "      <td>...</td>\n",
       "      <td>...</td>\n",
       "      <td>...</td>\n",
       "      <td>...</td>\n",
       "      <td>...</td>\n",
       "      <td>...</td>\n",
       "      <td>...</td>\n",
       "      <td>...</td>\n",
       "      <td>...</td>\n",
       "      <td>...</td>\n",
       "    </tr>\n",
       "    <tr>\n",
       "      <th>167</th>\n",
       "      <td>168</td>\n",
       "      <td>0</td>\n",
       "      <td>3</td>\n",
       "      <td>1</td>\n",
       "      <td>4</td>\n",
       "      <td>27.9000</td>\n",
       "      <td>0.0</td>\n",
       "      <td>0.0</td>\n",
       "      <td>1.0</td>\n",
       "      <td>1.0</td>\n",
       "      <td>0.0</td>\n",
       "    </tr>\n",
       "    <tr>\n",
       "      <th>143</th>\n",
       "      <td>144</td>\n",
       "      <td>0</td>\n",
       "      <td>3</td>\n",
       "      <td>0</td>\n",
       "      <td>0</td>\n",
       "      <td>6.7500</td>\n",
       "      <td>0.0</td>\n",
       "      <td>1.0</td>\n",
       "      <td>0.0</td>\n",
       "      <td>0.0</td>\n",
       "      <td>1.0</td>\n",
       "    </tr>\n",
       "    <tr>\n",
       "      <th>490</th>\n",
       "      <td>491</td>\n",
       "      <td>0</td>\n",
       "      <td>3</td>\n",
       "      <td>1</td>\n",
       "      <td>0</td>\n",
       "      <td>19.9667</td>\n",
       "      <td>0.0</td>\n",
       "      <td>0.0</td>\n",
       "      <td>1.0</td>\n",
       "      <td>0.0</td>\n",
       "      <td>1.0</td>\n",
       "    </tr>\n",
       "    <tr>\n",
       "      <th>871</th>\n",
       "      <td>872</td>\n",
       "      <td>1</td>\n",
       "      <td>1</td>\n",
       "      <td>1</td>\n",
       "      <td>1</td>\n",
       "      <td>52.5542</td>\n",
       "      <td>0.0</td>\n",
       "      <td>0.0</td>\n",
       "      <td>1.0</td>\n",
       "      <td>1.0</td>\n",
       "      <td>0.0</td>\n",
       "    </tr>\n",
       "    <tr>\n",
       "      <th>259</th>\n",
       "      <td>260</td>\n",
       "      <td>1</td>\n",
       "      <td>2</td>\n",
       "      <td>0</td>\n",
       "      <td>1</td>\n",
       "      <td>26.0000</td>\n",
       "      <td>0.0</td>\n",
       "      <td>0.0</td>\n",
       "      <td>1.0</td>\n",
       "      <td>1.0</td>\n",
       "      <td>0.0</td>\n",
       "    </tr>\n",
       "  </tbody>\n",
       "</table>\n",
       "<p>712 rows × 11 columns</p>\n",
       "</div>"
      ],
      "text/plain": [
       "     PassengerId  Survived  Pclass  SibSp  Parch     Fare    C    S    Q  \\\n",
       "38            39         0       3      2      0  18.0000  0.0  0.0  1.0   \n",
       "653          654         1       3      0      0   7.8292  0.0  1.0  0.0   \n",
       "526          527         1       2      0      0  10.5000  0.0  0.0  1.0   \n",
       "375          376         1       1      1      0  82.1708  1.0  0.0  0.0   \n",
       "394          395         1       3      0      2  16.7000  0.0  0.0  1.0   \n",
       "..           ...       ...     ...    ...    ...      ...  ...  ...  ...   \n",
       "167          168         0       3      1      4  27.9000  0.0  0.0  1.0   \n",
       "143          144         0       3      0      0   6.7500  0.0  1.0  0.0   \n",
       "490          491         0       3      1      0  19.9667  0.0  0.0  1.0   \n",
       "871          872         1       1      1      1  52.5542  0.0  0.0  1.0   \n",
       "259          260         1       2      0      1  26.0000  0.0  0.0  1.0   \n",
       "\n",
       "     male  female  \n",
       "38    1.0     0.0  \n",
       "653   1.0     0.0  \n",
       "526   1.0     0.0  \n",
       "375   1.0     0.0  \n",
       "394   1.0     0.0  \n",
       "..    ...     ...  \n",
       "167   1.0     0.0  \n",
       "143   0.0     1.0  \n",
       "490   0.0     1.0  \n",
       "871   1.0     0.0  \n",
       "259   1.0     0.0  \n",
       "\n",
       "[712 rows x 11 columns]"
      ]
     },
     "execution_count": 18,
     "metadata": {},
     "output_type": "execute_result"
    }
   ],
   "source": [
    "strat_train_set"
   ]
  },
  {
   "cell_type": "code",
   "execution_count": 19,
   "id": "23b0a7d6",
   "metadata": {
    "execution": {
     "iopub.execute_input": "2025-03-02T01:42:31.438330Z",
     "iopub.status.busy": "2025-03-02T01:42:31.438119Z",
     "iopub.status.idle": "2025-03-02T01:42:31.446253Z",
     "shell.execute_reply": "2025-03-02T01:42:31.445345Z"
    },
    "papermill": {
     "duration": 0.017722,
     "end_time": "2025-03-02T01:42:31.447413",
     "exception": false,
     "start_time": "2025-03-02T01:42:31.429691",
     "status": "completed"
    },
    "tags": []
   },
   "outputs": [
    {
     "name": "stdout",
     "output_type": "stream",
     "text": [
      "<class 'pandas.core.frame.DataFrame'>\n",
      "Index: 712 entries, 38 to 259\n",
      "Data columns (total 11 columns):\n",
      " #   Column       Non-Null Count  Dtype  \n",
      "---  ------       --------------  -----  \n",
      " 0   PassengerId  712 non-null    int64  \n",
      " 1   Survived     712 non-null    int64  \n",
      " 2   Pclass       712 non-null    int64  \n",
      " 3   SibSp        712 non-null    int64  \n",
      " 4   Parch        712 non-null    int64  \n",
      " 5   Fare         712 non-null    float64\n",
      " 6   C            712 non-null    float64\n",
      " 7   S            712 non-null    float64\n",
      " 8   Q            712 non-null    float64\n",
      " 9   male         712 non-null    float64\n",
      " 10  female       712 non-null    float64\n",
      "dtypes: float64(6), int64(5)\n",
      "memory usage: 66.8 KB\n"
     ]
    }
   ],
   "source": [
    "strat_train_set.info()"
   ]
  },
  {
   "cell_type": "code",
   "execution_count": 20,
   "id": "dd563a17",
   "metadata": {
    "execution": {
     "iopub.execute_input": "2025-03-02T01:42:31.463910Z",
     "iopub.status.busy": "2025-03-02T01:42:31.463660Z",
     "iopub.status.idle": "2025-03-02T01:42:31.471155Z",
     "shell.execute_reply": "2025-03-02T01:42:31.470528Z"
    },
    "papermill": {
     "duration": 0.016834,
     "end_time": "2025-03-02T01:42:31.472246",
     "exception": false,
     "start_time": "2025-03-02T01:42:31.455412",
     "status": "completed"
    },
    "tags": []
   },
   "outputs": [],
   "source": [
    "from sklearn.preprocessing import StandardScaler\n",
    "\n",
    "X = strat_train_set.drop([\"Survived\"], axis=1)\n",
    "y = strat_train_set[\"Survived\"]\n",
    "scaler = StandardScaler()\n",
    "\n",
    "X_data = scaler.fit_transform(X)\n",
    "y_data = y.to_numpy()"
   ]
  },
  {
   "cell_type": "code",
   "execution_count": 21,
   "id": "02bd83e3",
   "metadata": {
    "execution": {
     "iopub.execute_input": "2025-03-02T01:42:31.488758Z",
     "iopub.status.busy": "2025-03-02T01:42:31.488562Z",
     "iopub.status.idle": "2025-03-02T01:42:31.491657Z",
     "shell.execute_reply": "2025-03-02T01:42:31.490828Z"
    },
    "papermill": {
     "duration": 0.01257,
     "end_time": "2025-03-02T01:42:31.492943",
     "exception": false,
     "start_time": "2025-03-02T01:42:31.480373",
     "status": "completed"
    },
    "tags": []
   },
   "outputs": [],
   "source": [
    "import seaborn as sns"
   ]
  },
  {
   "cell_type": "code",
   "execution_count": 22,
   "id": "b823b572",
   "metadata": {
    "execution": {
     "iopub.execute_input": "2025-03-02T01:42:31.509470Z",
     "iopub.status.busy": "2025-03-02T01:42:31.509251Z",
     "iopub.status.idle": "2025-03-02T01:42:32.201632Z",
     "shell.execute_reply": "2025-03-02T01:42:32.200713Z"
    },
    "papermill": {
     "duration": 0.702936,
     "end_time": "2025-03-02T01:42:32.204055",
     "exception": false,
     "start_time": "2025-03-02T01:42:31.501119",
     "status": "completed"
    },
    "tags": []
   },
   "outputs": [
    {
     "data": {
      "text/plain": [
       "<Axes: >"
      ]
     },
     "execution_count": 22,
     "metadata": {},
     "output_type": "execute_result"
    },
    {
     "data": {
      "image/png": "[encoded data removed]",
      "text/plain": [
       "<Figure size 640x480 with 2 Axes>"
      ]
     },
     "metadata": {},
     "output_type": "display_data"
    }
   ],
   "source": [
    "sns.heatmap(strat_train_set.corr(), annot=True,fmt=\".2f\")"
   ]
  },
  {
   "cell_type": "markdown",
   "id": "b72e04f0",
   "metadata": {
    "papermill": {
     "duration": 0.009579,
     "end_time": "2025-03-02T01:42:32.224080",
     "exception": false,
     "start_time": "2025-03-02T01:42:32.214501",
     "status": "completed"
    },
    "tags": []
   },
   "source": [
    "**For survival** influence by Pclass, Sex, Fare"
   ]
  },
  {
   "cell_type": "code",
   "execution_count": 23,
   "id": "86f162e4",
   "metadata": {
    "execution": {
     "iopub.execute_input": "2025-03-02T01:42:32.244283Z",
     "iopub.status.busy": "2025-03-02T01:42:32.244027Z",
     "iopub.status.idle": "2025-03-02T01:42:32.247309Z",
     "shell.execute_reply": "2025-03-02T01:42:32.246527Z"
    },
    "papermill": {
     "duration": 0.014797,
     "end_time": "2025-03-02T01:42:32.248469",
     "exception": false,
     "start_time": "2025-03-02T01:42:32.233672",
     "status": "completed"
    },
    "tags": []
   },
   "outputs": [],
   "source": [
    "from sklearn.svm import SVC\n",
    "from sklearn.model_selection import GridSearchCV"
   ]
  },
  {
   "cell_type": "code",
   "execution_count": 24,
   "id": "597b457f",
   "metadata": {
    "execution": {
     "iopub.execute_input": "2025-03-02T01:42:32.269140Z",
     "iopub.status.busy": "2025-03-02T01:42:32.268846Z",
     "iopub.status.idle": "2025-03-02T01:42:32.272693Z",
     "shell.execute_reply": "2025-03-02T01:42:32.271876Z"
    },
    "papermill": {
     "duration": 0.015567,
     "end_time": "2025-03-02T01:42:32.273845",
     "exception": false,
     "start_time": "2025-03-02T01:42:32.258278",
     "status": "completed"
    },
    "tags": []
   },
   "outputs": [],
   "source": [
    "param_grid = {\n",
    "    'C': [0.01, 0.1, 1, 10, 100, 1000],\n",
    "    'gamma': [1e-3, 1e-2, 0.1, 1, 10],\n",
    "    'kernel': [\"rbf\"]\n",
    "}"
   ]
  },
  {
   "cell_type": "code",
   "execution_count": 25,
   "id": "2203b792",
   "metadata": {
    "execution": {
     "iopub.execute_input": "2025-03-02T01:42:32.294209Z",
     "iopub.status.busy": "2025-03-02T01:42:32.293952Z",
     "iopub.status.idle": "2025-03-02T01:42:32.297492Z",
     "shell.execute_reply": "2025-03-02T01:42:32.296622Z"
    },
    "papermill": {
     "duration": 0.015291,
     "end_time": "2025-03-02T01:42:32.298715",
     "exception": false,
     "start_time": "2025-03-02T01:42:32.283424",
     "status": "completed"
    },
    "tags": []
   },
   "outputs": [],
   "source": [
    "model = GridSearchCV(SVC(), param_grid, cv=5)"
   ]
  },
  {
   "cell_type": "code",
   "execution_count": 26,
   "id": "b3e58215",
   "metadata": {
    "execution": {
     "iopub.execute_input": "2025-03-02T01:42:32.318690Z",
     "iopub.status.busy": "2025-03-02T01:42:32.318467Z",
     "iopub.status.idle": "2025-03-02T01:42:37.533734Z",
     "shell.execute_reply": "2025-03-02T01:42:37.532868Z"
    },
    "papermill": {
     "duration": 5.226872,
     "end_time": "2025-03-02T01:42:37.535154",
     "exception": false,
     "start_time": "2025-03-02T01:42:32.308282",
     "status": "completed"
    },
    "tags": []
   },
   "outputs": [
    {
     "data": {
      "text/html": [
       "<style>#sk-container-id-1 {color: black;background-color: white;}#sk-container-id-1 pre{padding: 0;}#sk-container-id-1 div.sk-toggleable {background-color: white;}#sk-container-id-1 label.sk-toggleable__label {cursor: pointer;display: block;width: 100%;margin-bottom: 0;padding: 0.3em;box-sizing: border-box;text-align: center;}#sk-container-id-1 label.sk-toggleable__label-arrow:before {content: \"▸\";float: left;margin-right: 0.25em;color: #696969;}#sk-container-id-1 label.sk-toggleable__label-arrow:hover:before {color: black;}#sk-container-id-1 div.sk-estimator:hover label.sk-toggleable__label-arrow:before {color: black;}#sk-container-id-1 div.sk-toggleable__content {max-height: 0;max-width: 0;overflow: hidden;text-align: left;background-color: #f0f8ff;}#sk-container-id-1 div.sk-toggleable__content pre {margin: 0.2em;color: black;border-radius: 0.25em;background-color: #f0f8ff;}#sk-container-id-1 input.sk-toggleable__control:checked~div.sk-toggleable__content {max-height: 200px;max-width: 100%;overflow: auto;}#sk-container-id-1 input.sk-toggleable__control:checked~label.sk-toggleable__label-arrow:before {content: \"▾\";}#sk-container-id-1 div.sk-estimator input.sk-toggleable__control:checked~label.sk-toggleable__label {background-color: #d4ebff;}#sk-container-id-1 div.sk-label input.sk-toggleable__control:checked~label.sk-toggleable__label {background-color: #d4ebff;}#sk-container-id-1 input.sk-hidden--visually {border: 0;clip: rect(1px 1px 1px 1px);clip: rect(1px, 1px, 1px, 1px);height: 1px;margin: -1px;overflow: hidden;padding: 0;position: absolute;width: 1px;}#sk-container-id-1 div.sk-estimator {font-family: monospace;background-color: #f0f8ff;border: 1px dotted black;border-radius: 0.25em;box-sizing: border-box;margin-bottom: 0.5em;}#sk-container-id-1 div.sk-estimator:hover {background-color: #d4ebff;}#sk-container-id-1 div.sk-parallel-item::after {content: \"\";width: 100%;border-bottom: 1px solid gray;flex-grow: 1;}#sk-container-id-1 div.sk-label:hover label.sk-toggleable__label {background-color: #d4ebff;}#sk-container-id-1 div.sk-serial::before {content: \"\";position: absolute;border-left: 1px solid gray;box-sizing: border-box;top: 0;bottom: 0;left: 50%;z-index: 0;}#sk-container-id-1 div.sk-serial {display: flex;flex-direction: column;align-items: center;background-color: white;padding-right: 0.2em;padding-left: 0.2em;position: relative;}#sk-container-id-1 div.sk-item {position: relative;z-index: 1;}#sk-container-id-1 div.sk-parallel {display: flex;align-items: stretch;justify-content: center;background-color: white;position: relative;}#sk-container-id-1 div.sk-item::before, #sk-container-id-1 div.sk-parallel-item::before {content: \"\";position: absolute;border-left: 1px solid gray;box-sizing: border-box;top: 0;bottom: 0;left: 50%;z-index: -1;}#sk-container-id-1 div.sk-parallel-item {display: flex;flex-direction: column;z-index: 1;position: relative;background-color: white;}#sk-container-id-1 div.sk-parallel-item:first-child::after {align-self: flex-end;width: 50%;}#sk-container-id-1 div.sk-parallel-item:last-child::after {align-self: flex-start;width: 50%;}#sk-container-id-1 div.sk-parallel-item:only-child::after {width: 0;}#sk-container-id-1 div.sk-dashed-wrapped {border: 1px dashed gray;margin: 0 0.4em 0.5em 0.4em;box-sizing: border-box;padding-bottom: 0.4em;background-color: white;}#sk-container-id-1 div.sk-label label {font-family: monospace;font-weight: bold;display: inline-block;line-height: 1.2em;}#sk-container-id-1 div.sk-label-container {text-align: center;}#sk-container-id-1 div.sk-container {/* jupyter's `normalize.less` sets `[hidden] { display: none; }` but bootstrap.min.css set `[hidden] { display: none !important; }` so we also need the `!important` here to be able to override the default hidden behavior on the sphinx rendered scikit-learn.org. See: https://github.com/scikit-learn/scikit-learn/issues/21755 */display: inline-block !important;position: relative;}#sk-container-id-1 div.sk-text-repr-fallback {display: none;}</style><div id=\"sk-container-id-1\" class=\"sk-top-container\"><div class=\"sk-text-repr-fallback\"><pre>GridSearchCV(cv=5, estimator=SVC(),\n",
       "             param_grid={&#x27;C&#x27;: [0.01, 0.1, 1, 10, 100, 1000],\n",
       "                         &#x27;gamma&#x27;: [0.001, 0.01, 0.1, 1, 10],\n",
       "                         &#x27;kernel&#x27;: [&#x27;rbf&#x27;]})</pre><b>In a Jupyter environment, please rerun this cell to show the HTML representation or trust the notebook. <br />On GitHub, the HTML representation is unable to render, please try loading this page with nbviewer.org.</b></div><div class=\"sk-container\" hidden><div class=\"sk-item sk-dashed-wrapped\"><div class=\"sk-label-container\"><div class=\"sk-label sk-toggleable\"><input class=\"sk-toggleable__control sk-hidden--visually\" id=\"sk-estimator-id-1\" type=\"checkbox\" ><label for=\"sk-estimator-id-1\" class=\"sk-toggleable__label sk-toggleable__label-arrow\">GridSearchCV</label><div class=\"sk-toggleable__content\"><pre>GridSearchCV(cv=5, estimator=SVC(),\n",
       "             param_grid={&#x27;C&#x27;: [0.01, 0.1, 1, 10, 100, 1000],\n",
       "                         &#x27;gamma&#x27;: [0.001, 0.01, 0.1, 1, 10],\n",
       "                         &#x27;kernel&#x27;: [&#x27;rbf&#x27;]})</pre></div></div></div><div class=\"sk-parallel\"><div class=\"sk-parallel-item\"><div class=\"sk-item\"><div class=\"sk-label-container\"><div class=\"sk-label sk-toggleable\"><input class=\"sk-toggleable__control sk-hidden--visually\" id=\"sk-estimator-id-2\" type=\"checkbox\" ><label for=\"sk-estimator-id-2\" class=\"sk-toggleable__label sk-toggleable__label-arrow\">estimator: SVC</label><div class=\"sk-toggleable__content\"><pre>SVC()</pre></div></div></div><div class=\"sk-serial\"><div class=\"sk-item\"><div class=\"sk-estimator sk-toggleable\"><input class=\"sk-toggleable__control sk-hidden--visually\" id=\"sk-estimator-id-3\" type=\"checkbox\" ><label for=\"sk-estimator-id-3\" class=\"sk-toggleable__label sk-toggleable__label-arrow\">SVC</label><div class=\"sk-toggleable__content\"><pre>SVC()</pre></div></div></div></div></div></div></div></div></div></div>"
      ],
      "text/plain": [
       "GridSearchCV(cv=5, estimator=SVC(),\n",
       "             param_grid={'C': [0.01, 0.1, 1, 10, 100, 1000],\n",
       "                         'gamma': [0.001, 0.01, 0.1, 1, 10],\n",
       "                         'kernel': ['rbf']})"
      ]
     },
     "execution_count": 26,
     "metadata": {},
     "output_type": "execute_result"
    }
   ],
   "source": [
    "model.fit(X_data, y_data)"
   ]
  },
  {
   "cell_type": "code",
   "execution_count": 27,
   "id": "36c1f4af",
   "metadata": {
    "execution": {
     "iopub.execute_input": "2025-03-02T01:42:37.556911Z",
     "iopub.status.busy": "2025-03-02T01:42:37.556624Z",
     "iopub.status.idle": "2025-03-02T01:42:37.569446Z",
     "shell.execute_reply": "2025-03-02T01:42:37.568765Z"
    },
    "papermill": {
     "duration": 0.024826,
     "end_time": "2025-03-02T01:42:37.570691",
     "exception": false,
     "start_time": "2025-03-02T01:42:37.545865",
     "status": "completed"
    },
    "tags": []
   },
   "outputs": [],
   "source": [
    "strat_test_set = pipeline.fit_transform(strat_test_set)"
   ]
  },
  {
   "cell_type": "code",
   "execution_count": 28,
   "id": "a0edb0c7",
   "metadata": {
    "execution": {
     "iopub.execute_input": "2025-03-02T01:42:37.591924Z",
     "iopub.status.busy": "2025-03-02T01:42:37.591672Z",
     "iopub.status.idle": "2025-03-02T01:42:37.599132Z",
     "shell.execute_reply": "2025-03-02T01:42:37.598488Z"
    },
    "papermill": {
     "duration": 0.019096,
     "end_time": "2025-03-02T01:42:37.600496",
     "exception": false,
     "start_time": "2025-03-02T01:42:37.581400",
     "status": "completed"
    },
    "tags": []
   },
   "outputs": [],
   "source": [
    "X_test = strat_test_set.drop([\"Survived\"], axis=1)\n",
    "y_test = strat_test_set[\"Survived\"]\n",
    "\n",
    "scaler = StandardScaler()\n",
    "X_data_test = scaler.fit_transform(X_test)\n",
    "y_data_test = y_test.to_numpy()"
   ]
  },
  {
   "cell_type": "code",
   "execution_count": 29,
   "id": "6f1ac9c5",
   "metadata": {
    "execution": {
     "iopub.execute_input": "2025-03-02T01:42:37.622932Z",
     "iopub.status.busy": "2025-03-02T01:42:37.622685Z",
     "iopub.status.idle": "2025-03-02T01:42:37.631004Z",
     "shell.execute_reply": "2025-03-02T01:42:37.630193Z"
    },
    "papermill": {
     "duration": 0.01993,
     "end_time": "2025-03-02T01:42:37.632206",
     "exception": false,
     "start_time": "2025-03-02T01:42:37.612276",
     "status": "completed"
    },
    "tags": []
   },
   "outputs": [
    {
     "data": {
      "text/plain": [
       "0.8044692737430168"
      ]
     },
     "execution_count": 29,
     "metadata": {},
     "output_type": "execute_result"
    }
   ],
   "source": [
    "model.score(X_data_test, y_data_test)"
   ]
  },
  {
   "cell_type": "code",
   "execution_count": 30,
   "id": "2d5d4158",
   "metadata": {
    "execution": {
     "iopub.execute_input": "2025-03-02T01:42:37.652431Z",
     "iopub.status.busy": "2025-03-02T01:42:37.652203Z",
     "iopub.status.idle": "2025-03-02T01:42:37.773096Z",
     "shell.execute_reply": "2025-03-02T01:42:37.772252Z"
    },
    "papermill": {
     "duration": 0.132487,
     "end_time": "2025-03-02T01:42:37.774503",
     "exception": false,
     "start_time": "2025-03-02T01:42:37.642016",
     "status": "completed"
    },
    "tags": []
   },
   "outputs": [],
   "source": [
    "from sklearn.ensemble import RandomForestClassifier"
   ]
  },
  {
   "cell_type": "code",
   "execution_count": 31,
   "id": "254804fb",
   "metadata": {
    "execution": {
     "iopub.execute_input": "2025-03-02T01:42:37.795153Z",
     "iopub.status.busy": "2025-03-02T01:42:37.794902Z",
     "iopub.status.idle": "2025-03-02T01:42:37.798447Z",
     "shell.execute_reply": "2025-03-02T01:42:37.797625Z"
    },
    "papermill": {
     "duration": 0.014928,
     "end_time": "2025-03-02T01:42:37.799555",
     "exception": false,
     "start_time": "2025-03-02T01:42:37.784627",
     "status": "completed"
    },
    "tags": []
   },
   "outputs": [],
   "source": [
    "param_grid = {\n",
    "    'n_estimators': [100, 200, 300],\n",
    "    'max_depth': [5, 10, 15],\n",
    "    'min_samples_split': [2, 5, 10]\n",
    "}"
   ]
  },
  {
   "cell_type": "code",
   "execution_count": 32,
   "id": "8662b07f",
   "metadata": {
    "execution": {
     "iopub.execute_input": "2025-03-02T01:42:37.820271Z",
     "iopub.status.busy": "2025-03-02T01:42:37.820042Z",
     "iopub.status.idle": "2025-03-02T01:42:37.823400Z",
     "shell.execute_reply": "2025-03-02T01:42:37.822585Z"
    },
    "papermill": {
     "duration": 0.01509,
     "end_time": "2025-03-02T01:42:37.824469",
     "exception": false,
     "start_time": "2025-03-02T01:42:37.809379",
     "status": "completed"
    },
    "tags": []
   },
   "outputs": [],
   "source": [
    "forest_model = GridSearchCV(RandomForestClassifier(random_state=42), param_grid, cv=5, n_jobs=-1)"
   ]
  },
  {
   "cell_type": "code",
   "execution_count": 33,
   "id": "2479c791",
   "metadata": {
    "execution": {
     "iopub.execute_input": "2025-03-02T01:42:37.844902Z",
     "iopub.status.busy": "2025-03-02T01:42:37.844655Z",
     "iopub.status.idle": "2025-03-02T01:42:59.486436Z",
     "shell.execute_reply": "2025-03-02T01:42:59.485497Z"
    },
    "papermill": {
     "duration": 21.653642,
     "end_time": "2025-03-02T01:42:59.487951",
     "exception": false,
     "start_time": "2025-03-02T01:42:37.834309",
     "status": "completed"
    },
    "tags": []
   },
   "outputs": [
    {
     "data": {
      "text/html": [
       "<style>#sk-container-id-2 {color: black;background-color: white;}#sk-container-id-2 pre{padding: 0;}#sk-container-id-2 div.sk-toggleable {background-color: white;}#sk-container-id-2 label.sk-toggleable__label {cursor: pointer;display: block;width: 100%;margin-bottom: 0;padding: 0.3em;box-sizing: border-box;text-align: center;}#sk-container-id-2 label.sk-toggleable__label-arrow:before {content: \"▸\";float: left;margin-right: 0.25em;color: #696969;}#sk-container-id-2 label.sk-toggleable__label-arrow:hover:before {color: black;}#sk-container-id-2 div.sk-estimator:hover label.sk-toggleable__label-arrow:before {color: black;}#sk-container-id-2 div.sk-toggleable__content {max-height: 0;max-width: 0;overflow: hidden;text-align: left;background-color: #f0f8ff;}#sk-container-id-2 div.sk-toggleable__content pre {margin: 0.2em;color: black;border-radius: 0.25em;background-color: #f0f8ff;}#sk-container-id-2 input.sk-toggleable__control:checked~div.sk-toggleable__content {max-height: 200px;max-width: 100%;overflow: auto;}#sk-container-id-2 input.sk-toggleable__control:checked~label.sk-toggleable__label-arrow:before {content: \"▾\";}#sk-container-id-2 div.sk-estimator input.sk-toggleable__control:checked~label.sk-toggleable__label {background-color: #d4ebff;}#sk-container-id-2 div.sk-label input.sk-toggleable__control:checked~label.sk-toggleable__label {background-color: #d4ebff;}#sk-container-id-2 input.sk-hidden--visually {border: 0;clip: rect(1px 1px 1px 1px);clip: rect(1px, 1px, 1px, 1px);height: 1px;margin: -1px;overflow: hidden;padding: 0;position: absolute;width: 1px;}#sk-container-id-2 div.sk-estimator {font-family: monospace;background-color: #f0f8ff;border: 1px dotted black;border-radius: 0.25em;box-sizing: border-box;margin-bottom: 0.5em;}#sk-container-id-2 div.sk-estimator:hover {background-color: #d4ebff;}#sk-container-id-2 div.sk-parallel-item::after {content: \"\";width: 100%;border-bottom: 1px solid gray;flex-grow: 1;}#sk-container-id-2 div.sk-label:hover label.sk-toggleable__label {background-color: #d4ebff;}#sk-container-id-2 div.sk-serial::before {content: \"\";position: absolute;border-left: 1px solid gray;box-sizing: border-box;top: 0;bottom: 0;left: 50%;z-index: 0;}#sk-container-id-2 div.sk-serial {display: flex;flex-direction: column;align-items: center;background-color: white;padding-right: 0.2em;padding-left: 0.2em;position: relative;}#sk-container-id-2 div.sk-item {position: relative;z-index: 1;}#sk-container-id-2 div.sk-parallel {display: flex;align-items: stretch;justify-content: center;background-color: white;position: relative;}#sk-container-id-2 div.sk-item::before, #sk-container-id-2 div.sk-parallel-item::before {content: \"\";position: absolute;border-left: 1px solid gray;box-sizing: border-box;top: 0;bottom: 0;left: 50%;z-index: -1;}#sk-container-id-2 div.sk-parallel-item {display: flex;flex-direction: column;z-index: 1;position: relative;background-color: white;}#sk-container-id-2 div.sk-parallel-item:first-child::after {align-self: flex-end;width: 50%;}#sk-container-id-2 div.sk-parallel-item:last-child::after {align-self: flex-start;width: 50%;}#sk-container-id-2 div.sk-parallel-item:only-child::after {width: 0;}#sk-container-id-2 div.sk-dashed-wrapped {border: 1px dashed gray;margin: 0 0.4em 0.5em 0.4em;box-sizing: border-box;padding-bottom: 0.4em;background-color: white;}#sk-container-id-2 div.sk-label label {font-family: monospace;font-weight: bold;display: inline-block;line-height: 1.2em;}#sk-container-id-2 div.sk-label-container {text-align: center;}#sk-container-id-2 div.sk-container {/* jupyter's `normalize.less` sets `[hidden] { display: none; }` but bootstrap.min.css set `[hidden] { display: none !important; }` so we also need the `!important` here to be able to override the default hidden behavior on the sphinx rendered scikit-learn.org. See: https://github.com/scikit-learn/scikit-learn/issues/21755 */display: inline-block !important;position: relative;}#sk-container-id-2 div.sk-text-repr-fallback {display: none;}</style><div id=\"sk-container-id-2\" class=\"sk-top-container\"><div class=\"sk-text-repr-fallback\"><pre>GridSearchCV(cv=5, estimator=RandomForestClassifier(random_state=42), n_jobs=-1,\n",
       "             param_grid={&#x27;max_depth&#x27;: [5, 10, 15],\n",
       "                         &#x27;min_samples_split&#x27;: [2, 5, 10],\n",
       "                         &#x27;n_estimators&#x27;: [100, 200, 300]})</pre><b>In a Jupyter environment, please rerun this cell to show the HTML representation or trust the notebook. <br />On GitHub, the HTML representation is unable to render, please try loading this page with nbviewer.org.</b></div><div class=\"sk-container\" hidden><div class=\"sk-item sk-dashed-wrapped\"><div class=\"sk-label-container\"><div class=\"sk-label sk-toggleable\"><input class=\"sk-toggleable__control sk-hidden--visually\" id=\"sk-estimator-id-4\" type=\"checkbox\" ><label for=\"sk-estimator-id-4\" class=\"sk-toggleable__label sk-toggleable__label-arrow\">GridSearchCV</label><div class=\"sk-toggleable__content\"><pre>GridSearchCV(cv=5, estimator=RandomForestClassifier(random_state=42), n_jobs=-1,\n",
       "             param_grid={&#x27;max_depth&#x27;: [5, 10, 15],\n",
       "                         &#x27;min_samples_split&#x27;: [2, 5, 10],\n",
       "                         &#x27;n_estimators&#x27;: [100, 200, 300]})</pre></div></div></div><div class=\"sk-parallel\"><div class=\"sk-parallel-item\"><div class=\"sk-item\"><div class=\"sk-label-container\"><div class=\"sk-label sk-toggleable\"><input class=\"sk-toggleable__control sk-hidden--visually\" id=\"sk-estimator-id-5\" type=\"checkbox\" ><label for=\"sk-estimator-id-5\" class=\"sk-toggleable__label sk-toggleable__label-arrow\">estimator: RandomForestClassifier</label><div class=\"sk-toggleable__content\"><pre>RandomForestClassifier(random_state=42)</pre></div></div></div><div class=\"sk-serial\"><div class=\"sk-item\"><div class=\"sk-estimator sk-toggleable\"><input class=\"sk-toggleable__control sk-hidden--visually\" id=\"sk-estimator-id-6\" type=\"checkbox\" ><label for=\"sk-estimator-id-6\" class=\"sk-toggleable__label sk-toggleable__label-arrow\">RandomForestClassifier</label><div class=\"sk-toggleable__content\"><pre>RandomForestClassifier(random_state=42)</pre></div></div></div></div></div></div></div></div></div></div>"
      ],
      "text/plain": [
       "GridSearchCV(cv=5, estimator=RandomForestClassifier(random_state=42), n_jobs=-1,\n",
       "             param_grid={'max_depth': [5, 10, 15],\n",
       "                         'min_samples_split': [2, 5, 10],\n",
       "                         'n_estimators': [100, 200, 300]})"
      ]
     },
     "execution_count": 33,
     "metadata": {},
     "output_type": "execute_result"
    }
   ],
   "source": [
    "forest_model.fit(X_data, y_data)"
   ]
  },
  {
   "cell_type": "code",
   "execution_count": 34,
   "id": "ebd71832",
   "metadata": {
    "execution": {
     "iopub.execute_input": "2025-03-02T01:42:59.509599Z",
     "iopub.status.busy": "2025-03-02T01:42:59.509358Z",
     "iopub.status.idle": "2025-03-02T01:42:59.529961Z",
     "shell.execute_reply": "2025-03-02T01:42:59.529220Z"
    },
    "papermill": {
     "duration": 0.032703,
     "end_time": "2025-03-02T01:42:59.531275",
     "exception": false,
     "start_time": "2025-03-02T01:42:59.498572",
     "status": "completed"
    },
    "tags": []
   },
   "outputs": [
    {
     "data": {
      "text/plain": [
       "0.7877094972067039"
      ]
     },
     "execution_count": 34,
     "metadata": {},
     "output_type": "execute_result"
    }
   ],
   "source": [
    "forest_model.score(X_data_test, y_data_test)"
   ]
  },
  {
   "cell_type": "code",
   "execution_count": 35,
   "id": "2b2d58ad",
   "metadata": {
    "execution": {
     "iopub.execute_input": "2025-03-02T01:42:59.553275Z",
     "iopub.status.busy": "2025-03-02T01:42:59.553067Z",
     "iopub.status.idle": "2025-03-02T01:42:59.566818Z",
     "shell.execute_reply": "2025-03-02T01:42:59.566194Z"
    },
    "papermill": {
     "duration": 0.025699,
     "end_time": "2025-03-02T01:42:59.568033",
     "exception": false,
     "start_time": "2025-03-02T01:42:59.542334",
     "status": "completed"
    },
    "tags": []
   },
   "outputs": [],
   "source": [
    "final_data = pipeline.fit_transform(df)"
   ]
  },
  {
   "cell_type": "code",
   "execution_count": 36,
   "id": "4ead9b5c",
   "metadata": {
    "execution": {
     "iopub.execute_input": "2025-03-02T01:42:59.590515Z",
     "iopub.status.busy": "2025-03-02T01:42:59.590308Z",
     "iopub.status.idle": "2025-03-02T01:42:59.608494Z",
     "shell.execute_reply": "2025-03-02T01:42:59.607885Z"
    },
    "papermill": {
     "duration": 0.030435,
     "end_time": "2025-03-02T01:42:59.609705",
     "exception": false,
     "start_time": "2025-03-02T01:42:59.579270",
     "status": "completed"
    },
    "tags": []
   },
   "outputs": [],
   "source": [
    "X_final = final_data.drop([\"Survived\"], axis=1)\n",
    "y_final = final_data[\"Survived\"]\n",
    "\n",
    "scaler = StandardScaler()\n",
    "X_data_final = scaler.fit_transform(X_final)\n",
    "y_data_final = y_final.to_numpy()"
   ]
  },
  {
   "cell_type": "code",
   "execution_count": 37,
   "id": "ebd508c5",
   "metadata": {
    "execution": {
     "iopub.execute_input": "2025-03-02T01:42:59.630344Z",
     "iopub.status.busy": "2025-03-02T01:42:59.630136Z",
     "iopub.status.idle": "2025-03-02T01:42:59.633742Z",
     "shell.execute_reply": "2025-03-02T01:42:59.633149Z"
    },
    "papermill": {
     "duration": 0.015106,
     "end_time": "2025-03-02T01:42:59.634816",
     "exception": false,
     "start_time": "2025-03-02T01:42:59.619710",
     "status": "completed"
    },
    "tags": []
   },
   "outputs": [],
   "source": [
    "prod_clf = RandomForestClassifier()\n",
    "\n",
    "param_grid = [\n",
    "    {\"n_estimators\": [10, 100, 200, 500], \"max_depth\": [None, 5, 10], \n",
    "     \"min_samples_split\": [2, 3, 4]}\n",
    "]\n",
    "\n",
    "prod_grid_model = GridSearchCV(prod_clf, param_grid, cv=3, scoring=\"accuracy\", return_train_score=True)"
   ]
  },
  {
   "cell_type": "code",
   "execution_count": 38,
   "id": "5d4120b2",
   "metadata": {
    "execution": {
     "iopub.execute_input": "2025-03-02T01:42:59.655455Z",
     "iopub.status.busy": "2025-03-02T01:42:59.655257Z",
     "iopub.status.idle": "2025-03-02T01:43:38.223207Z",
     "shell.execute_reply": "2025-03-02T01:43:38.222279Z"
    },
    "papermill": {
     "duration": 38.590228,
     "end_time": "2025-03-02T01:43:38.234933",
     "exception": false,
     "start_time": "2025-03-02T01:42:59.644705",
     "status": "completed"
    },
    "tags": []
   },
   "outputs": [
    {
     "data": {
      "text/html": [
       "<style>#sk-container-id-3 {color: black;background-color: white;}#sk-container-id-3 pre{padding: 0;}#sk-container-id-3 div.sk-toggleable {background-color: white;}#sk-container-id-3 label.sk-toggleable__label {cursor: pointer;display: block;width: 100%;margin-bottom: 0;padding: 0.3em;box-sizing: border-box;text-align: center;}#sk-container-id-3 label.sk-toggleable__label-arrow:before {content: \"▸\";float: left;margin-right: 0.25em;color: #696969;}#sk-container-id-3 label.sk-toggleable__label-arrow:hover:before {color: black;}#sk-container-id-3 div.sk-estimator:hover label.sk-toggleable__label-arrow:before {color: black;}#sk-container-id-3 div.sk-toggleable__content {max-height: 0;max-width: 0;overflow: hidden;text-align: left;background-color: #f0f8ff;}#sk-container-id-3 div.sk-toggleable__content pre {margin: 0.2em;color: black;border-radius: 0.25em;background-color: #f0f8ff;}#sk-container-id-3 input.sk-toggleable__control:checked~div.sk-toggleable__content {max-height: 200px;max-width: 100%;overflow: auto;}#sk-container-id-3 input.sk-toggleable__control:checked~label.sk-toggleable__label-arrow:before {content: \"▾\";}#sk-container-id-3 div.sk-estimator input.sk-toggleable__control:checked~label.sk-toggleable__label {background-color: #d4ebff;}#sk-container-id-3 div.sk-label input.sk-toggleable__control:checked~label.sk-toggleable__label {background-color: #d4ebff;}#sk-container-id-3 input.sk-hidden--visually {border: 0;clip: rect(1px 1px 1px 1px);clip: rect(1px, 1px, 1px, 1px);height: 1px;margin: -1px;overflow: hidden;padding: 0;position: absolute;width: 1px;}#sk-container-id-3 div.sk-estimator {font-family: monospace;background-color: #f0f8ff;border: 1px dotted black;border-radius: 0.25em;box-sizing: border-box;margin-bottom: 0.5em;}#sk-container-id-3 div.sk-estimator:hover {background-color: #d4ebff;}#sk-container-id-3 div.sk-parallel-item::after {content: \"\";width: 100%;border-bottom: 1px solid gray;flex-grow: 1;}#sk-container-id-3 div.sk-label:hover label.sk-toggleable__label {background-color: #d4ebff;}#sk-container-id-3 div.sk-serial::before {content: \"\";position: absolute;border-left: 1px solid gray;box-sizing: border-box;top: 0;bottom: 0;left: 50%;z-index: 0;}#sk-container-id-3 div.sk-serial {display: flex;flex-direction: column;align-items: center;background-color: white;padding-right: 0.2em;padding-left: 0.2em;position: relative;}#sk-container-id-3 div.sk-item {position: relative;z-index: 1;}#sk-container-id-3 div.sk-parallel {display: flex;align-items: stretch;justify-content: center;background-color: white;position: relative;}#sk-container-id-3 div.sk-item::before, #sk-container-id-3 div.sk-parallel-item::before {content: \"\";position: absolute;border-left: 1px solid gray;box-sizing: border-box;top: 0;bottom: 0;left: 50%;z-index: -1;}#sk-container-id-3 div.sk-parallel-item {display: flex;flex-direction: column;z-index: 1;position: relative;background-color: white;}#sk-container-id-3 div.sk-parallel-item:first-child::after {align-self: flex-end;width: 50%;}#sk-container-id-3 div.sk-parallel-item:last-child::after {align-self: flex-start;width: 50%;}#sk-container-id-3 div.sk-parallel-item:only-child::after {width: 0;}#sk-container-id-3 div.sk-dashed-wrapped {border: 1px dashed gray;margin: 0 0.4em 0.5em 0.4em;box-sizing: border-box;padding-bottom: 0.4em;background-color: white;}#sk-container-id-3 div.sk-label label {font-family: monospace;font-weight: bold;display: inline-block;line-height: 1.2em;}#sk-container-id-3 div.sk-label-container {text-align: center;}#sk-container-id-3 div.sk-container {/* jupyter's `normalize.less` sets `[hidden] { display: none; }` but bootstrap.min.css set `[hidden] { display: none !important; }` so we also need the `!important` here to be able to override the default hidden behavior on the sphinx rendered scikit-learn.org. See: https://github.com/scikit-learn/scikit-learn/issues/21755 */display: inline-block !important;position: relative;}#sk-container-id-3 div.sk-text-repr-fallback {display: none;}</style><div id=\"sk-container-id-3\" class=\"sk-top-container\"><div class=\"sk-text-repr-fallback\"><pre>GridSearchCV(cv=3, estimator=RandomForestClassifier(),\n",
       "             param_grid=[{&#x27;max_depth&#x27;: [None, 5, 10],\n",
       "                          &#x27;min_samples_split&#x27;: [2, 3, 4],\n",
       "                          &#x27;n_estimators&#x27;: [10, 100, 200, 500]}],\n",
       "             return_train_score=True, scoring=&#x27;accuracy&#x27;)</pre><b>In a Jupyter environment, please rerun this cell to show the HTML representation or trust the notebook. <br />On GitHub, the HTML representation is unable to render, please try loading this page with nbviewer.org.</b></div><div class=\"sk-container\" hidden><div class=\"sk-item sk-dashed-wrapped\"><div class=\"sk-label-container\"><div class=\"sk-label sk-toggleable\"><input class=\"sk-toggleable__control sk-hidden--visually\" id=\"sk-estimator-id-7\" type=\"checkbox\" ><label for=\"sk-estimator-id-7\" class=\"sk-toggleable__label sk-toggleable__label-arrow\">GridSearchCV</label><div class=\"sk-toggleable__content\"><pre>GridSearchCV(cv=3, estimator=RandomForestClassifier(),\n",
       "             param_grid=[{&#x27;max_depth&#x27;: [None, 5, 10],\n",
       "                          &#x27;min_samples_split&#x27;: [2, 3, 4],\n",
       "                          &#x27;n_estimators&#x27;: [10, 100, 200, 500]}],\n",
       "             return_train_score=True, scoring=&#x27;accuracy&#x27;)</pre></div></div></div><div class=\"sk-parallel\"><div class=\"sk-parallel-item\"><div class=\"sk-item\"><div class=\"sk-label-container\"><div class=\"sk-label sk-toggleable\"><input class=\"sk-toggleable__control sk-hidden--visually\" id=\"sk-estimator-id-8\" type=\"checkbox\" ><label for=\"sk-estimator-id-8\" class=\"sk-toggleable__label sk-toggleable__label-arrow\">estimator: RandomForestClassifier</label><div class=\"sk-toggleable__content\"><pre>RandomForestClassifier()</pre></div></div></div><div class=\"sk-serial\"><div class=\"sk-item\"><div class=\"sk-estimator sk-toggleable\"><input class=\"sk-toggleable__control sk-hidden--visually\" id=\"sk-estimator-id-9\" type=\"checkbox\" ><label for=\"sk-estimator-id-9\" class=\"sk-toggleable__label sk-toggleable__label-arrow\">RandomForestClassifier</label><div class=\"sk-toggleable__content\"><pre>RandomForestClassifier()</pre></div></div></div></div></div></div></div></div></div></div>"
      ],
      "text/plain": [
       "GridSearchCV(cv=3, estimator=RandomForestClassifier(),\n",
       "             param_grid=[{'max_depth': [None, 5, 10],\n",
       "                          'min_samples_split': [2, 3, 4],\n",
       "                          'n_estimators': [10, 100, 200, 500]}],\n",
       "             return_train_score=True, scoring='accuracy')"
      ]
     },
     "execution_count": 38,
     "metadata": {},
     "output_type": "execute_result"
    }
   ],
   "source": [
    "prod_grid_model.fit(X_data_final, y_data_final)"
   ]
  },
  {
   "cell_type": "code",
   "execution_count": 39,
   "id": "bb50c7cf",
   "metadata": {
    "execution": {
     "iopub.execute_input": "2025-03-02T01:43:38.255871Z",
     "iopub.status.busy": "2025-03-02T01:43:38.255601Z",
     "iopub.status.idle": "2025-03-02T01:43:38.259112Z",
     "shell.execute_reply": "2025-03-02T01:43:38.258326Z"
    },
    "papermill": {
     "duration": 0.015274,
     "end_time": "2025-03-02T01:43:38.260357",
     "exception": false,
     "start_time": "2025-03-02T01:43:38.245083",
     "status": "completed"
    },
    "tags": []
   },
   "outputs": [],
   "source": [
    "final_test_data = test.copy()"
   ]
  },
  {
   "cell_type": "code",
   "execution_count": 40,
   "id": "590e0014",
   "metadata": {
    "execution": {
     "iopub.execute_input": "2025-03-02T01:43:38.281383Z",
     "iopub.status.busy": "2025-03-02T01:43:38.281172Z",
     "iopub.status.idle": "2025-03-02T01:43:38.292576Z",
     "shell.execute_reply": "2025-03-02T01:43:38.291956Z"
    },
    "papermill": {
     "duration": 0.023155,
     "end_time": "2025-03-02T01:43:38.293683",
     "exception": false,
     "start_time": "2025-03-02T01:43:38.270528",
     "status": "completed"
    },
    "tags": []
   },
   "outputs": [],
   "source": [
    "final_test_data = pipeline.fit_transform(final_test_data)"
   ]
  },
  {
   "cell_type": "code",
   "execution_count": 41,
   "id": "46f17c28",
   "metadata": {
    "execution": {
     "iopub.execute_input": "2025-03-02T01:43:38.314712Z",
     "iopub.status.busy": "2025-03-02T01:43:38.314515Z",
     "iopub.status.idle": "2025-03-02T01:43:38.323992Z",
     "shell.execute_reply": "2025-03-02T01:43:38.323077Z"
    },
    "papermill": {
     "duration": 0.021625,
     "end_time": "2025-03-02T01:43:38.325324",
     "exception": false,
     "start_time": "2025-03-02T01:43:38.303699",
     "status": "completed"
    },
    "tags": []
   },
   "outputs": [
    {
     "name": "stdout",
     "output_type": "stream",
     "text": [
      "<class 'pandas.core.frame.DataFrame'>\n",
      "RangeIndex: 418 entries, 0 to 417\n",
      "Data columns (total 10 columns):\n",
      " #   Column       Non-Null Count  Dtype  \n",
      "---  ------       --------------  -----  \n",
      " 0   PassengerId  418 non-null    int64  \n",
      " 1   Pclass       418 non-null    int64  \n",
      " 2   SibSp        418 non-null    int64  \n",
      " 3   Parch        418 non-null    int64  \n",
      " 4   Fare         417 non-null    float64\n",
      " 5   C            418 non-null    float64\n",
      " 6   S            418 non-null    float64\n",
      " 7   Q            418 non-null    float64\n",
      " 8   male         418 non-null    float64\n",
      " 9   female       418 non-null    float64\n",
      "dtypes: float64(6), int64(4)\n",
      "memory usage: 32.8 KB\n"
     ]
    }
   ],
   "source": [
    "final_test_data.info()"
   ]
  },
  {
   "cell_type": "code",
   "execution_count": 42,
   "id": "86f87583",
   "metadata": {
    "execution": {
     "iopub.execute_input": "2025-03-02T01:43:38.385925Z",
     "iopub.status.busy": "2025-03-02T01:43:38.385610Z",
     "iopub.status.idle": "2025-03-02T01:43:38.395760Z",
     "shell.execute_reply": "2025-03-02T01:43:38.395111Z"
    },
    "papermill": {
     "duration": 0.022709,
     "end_time": "2025-03-02T01:43:38.397140",
     "exception": false,
     "start_time": "2025-03-02T01:43:38.374431",
     "status": "completed"
    },
    "tags": []
   },
   "outputs": [],
   "source": [
    "X_final_test = final_test_data\n",
    "X_final_test = X_final_test.fillna(method=\"ffill\")\n",
    "\n",
    "scaler = StandardScaler()\n",
    "X_data_final_test = scaler.fit_transform(X_final_test)"
   ]
  },
  {
   "cell_type": "code",
   "execution_count": 43,
   "id": "1760cd0b",
   "metadata": {
    "execution": {
     "iopub.execute_input": "2025-03-02T01:43:38.419010Z",
     "iopub.status.busy": "2025-03-02T01:43:38.418769Z",
     "iopub.status.idle": "2025-03-02T01:43:38.455626Z",
     "shell.execute_reply": "2025-03-02T01:43:38.455008Z"
    },
    "papermill": {
     "duration": 0.048873,
     "end_time": "2025-03-02T01:43:38.456900",
     "exception": false,
     "start_time": "2025-03-02T01:43:38.408027",
     "status": "completed"
    },
    "tags": []
   },
   "outputs": [],
   "source": [
    "predictions = prod_grid_model.predict(X_data_final_test)"
   ]
  },
  {
   "cell_type": "code",
   "execution_count": 44,
   "id": "d9cc3192",
   "metadata": {
    "execution": {
     "iopub.execute_input": "2025-03-02T01:43:38.478478Z",
     "iopub.status.busy": "2025-03-02T01:43:38.478276Z",
     "iopub.status.idle": "2025-03-02T01:43:38.487903Z",
     "shell.execute_reply": "2025-03-02T01:43:38.487298Z"
    },
    "papermill": {
     "duration": 0.02163,
     "end_time": "2025-03-02T01:43:38.489059",
     "exception": false,
     "start_time": "2025-03-02T01:43:38.467429",
     "status": "completed"
    },
    "tags": []
   },
   "outputs": [],
   "source": [
    "final_df = pd.DataFrame(test[\"PassengerId\"])\n",
    "final_df[\"Survived\"] = predictions\n",
    "\n",
    "final_df.to_csv(\"/kaggle/working/predictions.csv\", index=False)"
   ]
  },
  {
   "cell_type": "code",
   "execution_count": 45,
   "id": "33b62a42",
   "metadata": {
    "execution": {
     "iopub.execute_input": "2025-03-02T01:43:38.510487Z",
     "iopub.status.busy": "2025-03-02T01:43:38.510287Z",
     "iopub.status.idle": "2025-03-02T01:43:38.517650Z",
     "shell.execute_reply": "2025-03-02T01:43:38.516889Z"
    },
    "papermill": {
     "duration": 0.019431,
     "end_time": "2025-03-02T01:43:38.518884",
     "exception": false,
     "start_time": "2025-03-02T01:43:38.499453",
     "status": "completed"
    },
    "tags": []
   },
   "outputs": [
    {
     "data": {
      "text/html": [
       "<div>\n",
       "<style scoped>\n",
       "    .dataframe tbody tr th:only-of-type {\n",
       "        vertical-align: middle;\n",
       "    }\n",
       "\n",
       "    .dataframe tbody tr th {\n",
       "        vertical-align: top;\n",
       "    }\n",
       "\n",
       "    .dataframe thead th {\n",
       "        text-align: right;\n",
       "    }\n",
       "</style>\n",
       "<table border=\"1\" class=\"dataframe\">\n",
       "  <thead>\n",
       "    <tr style=\"text-align: right;\">\n",
       "      <th></th>\n",
       "      <th>PassengerId</th>\n",
       "      <th>Survived</th>\n",
       "    </tr>\n",
       "  </thead>\n",
       "  <tbody>\n",
       "    <tr>\n",
       "      <th>0</th>\n",
       "      <td>892</td>\n",
       "      <td>0</td>\n",
       "    </tr>\n",
       "    <tr>\n",
       "      <th>1</th>\n",
       "      <td>893</td>\n",
       "      <td>1</td>\n",
       "    </tr>\n",
       "    <tr>\n",
       "      <th>2</th>\n",
       "      <td>894</td>\n",
       "      <td>0</td>\n",
       "    </tr>\n",
       "    <tr>\n",
       "      <th>3</th>\n",
       "      <td>895</td>\n",
       "      <td>0</td>\n",
       "    </tr>\n",
       "    <tr>\n",
       "      <th>4</th>\n",
       "      <td>896</td>\n",
       "      <td>1</td>\n",
       "    </tr>\n",
       "    <tr>\n",
       "      <th>...</th>\n",
       "      <td>...</td>\n",
       "      <td>...</td>\n",
       "    </tr>\n",
       "    <tr>\n",
       "      <th>413</th>\n",
       "      <td>1305</td>\n",
       "      <td>0</td>\n",
       "    </tr>\n",
       "    <tr>\n",
       "      <th>414</th>\n",
       "      <td>1306</td>\n",
       "      <td>1</td>\n",
       "    </tr>\n",
       "    <tr>\n",
       "      <th>415</th>\n",
       "      <td>1307</td>\n",
       "      <td>0</td>\n",
       "    </tr>\n",
       "    <tr>\n",
       "      <th>416</th>\n",
       "      <td>1308</td>\n",
       "      <td>0</td>\n",
       "    </tr>\n",
       "    <tr>\n",
       "      <th>417</th>\n",
       "      <td>1309</td>\n",
       "      <td>0</td>\n",
       "    </tr>\n",
       "  </tbody>\n",
       "</table>\n",
       "<p>418 rows × 2 columns</p>\n",
       "</div>"
      ],
      "text/plain": [
       "     PassengerId  Survived\n",
       "0            892         0\n",
       "1            893         1\n",
       "2            894         0\n",
       "3            895         0\n",
       "4            896         1\n",
       "..           ...       ...\n",
       "413         1305         0\n",
       "414         1306         1\n",
       "415         1307         0\n",
       "416         1308         0\n",
       "417         1309         0\n",
       "\n",
       "[418 rows x 2 columns]"
      ]
     },
     "execution_count": 45,
     "metadata": {},
     "output_type": "execute_result"
    }
   ],
   "source": [
    "final_df"
   ]
  },
  {
   "cell_type": "code",
   "execution_count": null,
   "id": "eb131589",
   "metadata": {
    "papermill": {
     "duration": 0.01055,
     "end_time": "2025-03-02T01:43:38.539973",
     "exception": false,
     "start_time": "2025-03-02T01:43:38.529423",
     "status": "completed"
    },
    "tags": []
   },
   "outputs": [],
   "source": []
  }
 ],
 "metadata": {
  "kaggle": {
   "accelerator": "nvidiaTeslaT4",
   "dataSources": [
    {
     "databundleVersionId": 26502,
     "sourceId": 3136,
     "sourceType": "competition"
    }
   ],
   "dockerImageVersionId": 30918,
   "isGpuEnabled": true,
   "isInternetEnabled": true,
   "language": "python",
   "sourceType": "notebook"
  },
  "kernelspec": {
   "display_name": "Python 3",
   "language": "python",
   "name": "python3"
  },
  "language_info": {
   "codemirror_mode": {
    "name": "ipython",
    "version": 3
   },
   "file_extension": ".py",
   "mimetype": "text/x-python",
   "name": "python",
   "nbconvert_exporter": "python",
   "pygments_lexer": "ipython3",
   "version": "3.10.12"
  },
  "papermill": {
   "default_parameters": {},
   "duration": 73.388827,
   "end_time": "2025-03-02T01:43:39.169378",
   "environment_variables": {},
   "exception": null,
   "input_path": "__notebook__.ipynb",
   "output_path": "__notebook__.ipynb",
   "parameters": {},
   "start_time": "2025-03-02T01:42:25.780551",
   "version": "2.6.0"
  }
 },
 "nbformat": 4,
 "nbformat_minor": 5
}
